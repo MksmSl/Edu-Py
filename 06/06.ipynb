{
 "cells": [
  {
   "cell_type": "code",
   "execution_count": 2,
   "metadata": {},
   "outputs": [
    {
     "name": "stdout",
     "output_type": "stream",
     "text": [
      "1\n",
      "2\n",
      "3\n",
      "[1, 2, 3]\n",
      "4\n",
      "5\n",
      "6\n",
      "[4, 5, 6]\n"
     ]
    }
   ],
   "source": [
    "list = [[1, 2, 3], [4, 5, 6]]\n",
    "for i in list:\n",
    "    for j in i:\n",
    "        print(j)\n",
    "    print (i)"
   ]
  },
  {
   "cell_type": "code",
   "execution_count": 26,
   "metadata": {},
   "outputs": [
    {
     "name": "stdout",
     "output_type": "stream",
     "text": [
      "<class 'tuple'>\n",
      "('1',)\n"
     ]
    },
    {
     "ename": "TypeError",
     "evalue": "unsupported operand type(s) for +: 'int' and 'str'",
     "output_type": "error",
     "traceback": [
      "\u001b[1;31m---------------------------------------------------------------------------\u001b[0m",
      "\u001b[1;31mTypeError\u001b[0m                                 Traceback (most recent call last)",
      "Cell \u001b[1;32mIn[26], line 7\u001b[0m\n\u001b[0;32m      5\u001b[0m n \u001b[39m=\u001b[39m n \u001b[39m+\u001b[39m \u001b[39mtuple\u001b[39m(\u001b[39m'\u001b[39m\u001b[39m1\u001b[39m\u001b[39m'\u001b[39m)\n\u001b[0;32m      6\u001b[0m n\u001b[39m.\u001b[39mindex(\u001b[39m'\u001b[39m\u001b[39m1\u001b[39m\u001b[39m'\u001b[39m)\n\u001b[1;32m----> 7\u001b[0m \u001b[39msum\u001b[39;49m(n) \n",
      "\u001b[1;31mTypeError\u001b[0m: unsupported operand type(s) for +: 'int' and 'str'"
     ]
    }
   ],
   "source": [
    "n = ()\n",
    "print(type(n))\n",
    "n = n + tuple('1')\n",
    "print(n)\n",
    "n = n + tuple('1')\n",
    "n.index('1')\n",
    "sum(n) "
   ]
  },
  {
   "cell_type": "code",
   "execution_count": 23,
   "metadata": {},
   "outputs": [
    {
     "name": "stdout",
     "output_type": "stream",
     "text": [
      "0\n"
     ]
    }
   ],
   "source": [
    "import random\n",
    "print(random.randint(0,2))"
   ]
  },
  {
   "cell_type": "code",
   "execution_count": 111,
   "metadata": {},
   "outputs": [
    {
     "name": "stdout",
     "output_type": "stream",
     "text": [
      "['a', 'b', 'c', 'd']\n",
      "['e']\n",
      "[(None, None), (None, None)]\n"
     ]
    }
   ],
   "source": [
    "first = ['d', 'a', 'b', 'c', 'c', 'd']\n",
    "second = ['c', 'd', 'e']\n",
    "first_new = first[:]\n",
    "second_new = second[:]\n",
    "i = [(second_new.remove(i), first_new.remove(i)) for i in first if i in second_new]\n",
    "# j = [second_new.remove(i) for i in second  if i in first]\n",
    "# second_new = [i for i in first if i in second]\n",
    "print (first_new)\n",
    "print (second_new)\n",
    "print (i)\n",
    "# print (second_new)\n"
   ]
  },
  {
   "cell_type": "code",
   "execution_count": 48,
   "metadata": {},
   "outputs": [
    {
     "data": {
      "text/plain": [
       "[1, 2, 2]"
      ]
     },
     "execution_count": 48,
     "metadata": {},
     "output_type": "execute_result"
    }
   ],
   "source": [
    "list1 = [1, 2, 3, 2]\n",
    "del list1[list1.index(3)]\n",
    "list1"
   ]
  },
  {
   "cell_type": "code",
   "execution_count": 110,
   "metadata": {},
   "outputs": [
    {
     "name": "stdout",
     "output_type": "stream",
     "text": [
      "bla1\n",
      "bla2\n",
      "bla1\n",
      "bla2\n"
     ]
    }
   ],
   "source": [
    "list = [1 , 3]\n",
    "i=[(print(\"bla1\"), print(\"bla2\")) for i in list]"
   ]
  }
 ],
 "metadata": {
  "kernelspec": {
   "display_name": "Python 3",
   "language": "python",
   "name": "python3"
  },
  "language_info": {
   "codemirror_mode": {
    "name": "ipython",
    "version": 3
   },
   "file_extension": ".py",
   "mimetype": "text/x-python",
   "name": "python",
   "nbconvert_exporter": "python",
   "pygments_lexer": "ipython3",
   "version": "3.11.2"
  },
  "orig_nbformat": 4
 },
 "nbformat": 4,
 "nbformat_minor": 2
}
