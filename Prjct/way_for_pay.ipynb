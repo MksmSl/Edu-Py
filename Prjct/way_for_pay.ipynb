{
 "cells": [
  {
   "cell_type": "code",
   "execution_count": 66,
   "metadata": {},
   "outputs": [],
   "source": [
    "import requests\n",
    "resp = requests.get('https://api.wayforpay.com/api')"
   ]
  },
  {
   "cell_type": "code",
   "execution_count": 55,
   "metadata": {},
   "outputs": [
    {
     "name": "stdout",
     "output_type": "stream",
     "text": [
      "400\n"
     ]
    }
   ],
   "source": [
    "resp = requests.post(\"https://api.wayforpay.com/api\", {\n",
    "\"apiVersion\": \"1\",\n",
    "\"transactionType\": \"CURRENCY_RATES\",\n",
    "\"merchantAccount\": \"test_merch_n1\",\n",
    "\"orderDate\": 1680381251,\n",
    "\"merchantSignature\": \"34db85c56a400205b177597952c792f2\"\n",
    "})\n",
    "print(resp.status_code)"
   ]
  },
  {
   "cell_type": "code",
   "execution_count": 80,
   "metadata": {},
   "outputs": [
    {
     "name": "stdout",
     "output_type": "stream",
     "text": [
      "200\n",
      "{'reasonCode': 1113, 'reason': 'Invalid signature'}\n"
     ]
    }
   ],
   "source": [
    "\n",
    "# importing the requests library\n",
    "import requests\n",
    " \n",
    "# defining the api-endpoint\n",
    "API_ENDPOINT = \"https://api.wayforpay.com/api\"\n",
    " \n",
    " \n",
    "# data to be sent to api\n",
    "data = {\n",
    "\"apiVersion\": \"1\",\n",
    "\"transactionType\": \"CURRENCY_RATES\",\n",
    "\"merchantAccount\": \"test_merch_n1\",\n",
    "\"orderDate\": 1680381251,\n",
    "\"merchantSignature\": \"34db85c56a400205b177597952c792f2\"\n",
    "}\n",
    " \n",
    "# sending post request and saving response as response object\n",
    "resp = requests.post(url=API_ENDPOINT, json=data)\n",
    " \n",
    "print(resp.status_code)\n",
    "print(resp.json())"
   ]
  },
  {
   "cell_type": "code",
   "execution_count": 76,
   "metadata": {},
   "outputs": [
    {
     "name": "stdout",
     "output_type": "stream",
     "text": [
      "{'reasonCode': 1113, 'reason': 'Invalid signature'}\n"
     ]
    }
   ],
   "source": [
    "print(resp.json())"
   ]
  },
  {
   "cell_type": "code",
   "execution_count": 82,
   "metadata": {},
   "outputs": [
    {
     "name": "stdout",
     "output_type": "stream",
     "text": [
      "200\n",
      "{'reasonCode': 1113, 'reason': 'Invalid signature'}\n"
     ]
    }
   ],
   "source": [
    "\n",
    "# importing the requests library\n",
    "import requests\n",
    " \n",
    "# defining the api-endpoint\n",
    "API_ENDPOINT = \"https://api.wayforpay.com/api\"\n",
    " \n",
    " \n",
    "# data to be sent to api\n",
    "data = {\n",
    "\"transactionType\":\"CREATE_INVOICE\",\n",
    "\"merchantAccount\":\"freelance_user_64cff0a7c6a9b\",\n",
    "\"merchantAuthType\":\"!!!!!\",\n",
    "\"merchantDomainName\":\"www.market.ua\",\n",
    "\"merchantSignature\":\"a0e7bd3cd3ebae25bbe1743509e868df\",\n",
    "\"apiVersion\":1,\n",
    "\"language\": \"ua\",\n",
    "\"serviceUrl\": \"http://serviceurl.com\",\n",
    "\"orderReference\":\"DH1691434500\",\n",
    "\"orderDate\":1415379863,\n",
    "\"amount\":1547.36,\n",
    "\"currency\":\"UAH\",\n",
    "\"orderTimeout\": 49000,\n",
    "\"productName\":[\"Процессор Intel Core i5-4670 3.4GHz\", \"Память Kingston DDR3-1600 4096MB PC3-12800\"],\n",
    "\"productPrice\":[1000, 547.36 ],\n",
    "\"productCount\":[1,2],\n",
    "\"paymentSystems\": \"card\",\n",
    "\"clientFirstName\":\"Вася\",\n",
    "\"clientLastName\":\"Пупкин\",\n",
    "\"clientEmail\":\"some@mail.com\",\n",
    "\"clientPhone\":\"380556667788\"\n",
    "}\n",
    "\n",
    "resp = requests.post(url=API_ENDPOINT, json=data)\n",
    " \n",
    "print(resp.status_code)\n",
    "print(resp.json())"
   ]
  },
  {
   "cell_type": "code",
   "execution_count": 83,
   "metadata": {},
   "outputs": [
    {
     "name": "stdout",
     "output_type": "stream",
     "text": [
      "03d011eea0e1b805f991688d5c4ab1c35a6c3c8c4a4f08913c1e5f5d5cb5dd6c\n"
     ]
    }
   ],
   "source": [
    "import hmac\n",
    "import hashlib\n",
    "\n",
    "message = \"Hello, world!\"\n",
    "secret_key = b\"my-secret-key\"\n",
    "\n",
    "# Compute the HMAC of the message using the SHA-256 hash function\n",
    "hmac_value = hmac.new(secret_key, message.encode(\"utf-8\"), hashlib.sha256).hexdigest()\n",
    "\n",
    "print(hmac_value)"
   ]
  },
  {
   "cell_type": "code",
   "execution_count": 173,
   "metadata": {},
   "outputs": [
    {
     "name": "stdout",
     "output_type": "stream",
     "text": [
      "freelance_user_64cff0a7c6a9b;1691366400\n"
     ]
    },
    {
     "data": {
      "text/plain": [
       "'4d1f1d0d3db9955e3d2a551900ca473c'"
      ]
     },
     "execution_count": 173,
     "metadata": {},
     "output_type": "execute_result"
    }
   ],
   "source": [
    "import hashlib\n",
    "import hmac\n",
    "\n",
    "\n",
    "\n",
    "s = f'{merchantAccount};{orderDate}'\n",
    "key = \"246a6bbe7c23b6e8ec3c21af8fa0c3dd6ef9e2d1\"\n",
    "\n",
    "def hmac_md5(key, s):\n",
    "    return hmac.new(key.encode('utf-8'), s.encode('utf-8'), 'MD5').hexdigest()\n",
    "\n",
    "merchantSignature = hmac_md5(key, s)\n",
    "print(s)\n",
    "# merchantSignature = hmac_md5(key, s_invoice)\n",
    "merchantSignature"
   ]
  },
  {
   "cell_type": "code",
   "execution_count": 181,
   "metadata": {},
   "outputs": [
    {
     "name": "stdout",
     "output_type": "stream",
     "text": [
      "{'apiVersion': '1', 'transactionType': 'freelance_user_64cff0a7c6a9b', 'orderDate': 1691366400, 'merchantSignature': '4d1f1d0d3db9955e3d2a551900ca473c'}\n",
      "200\n",
      "{'reasonCode': 1129, 'reason': 'ScriptError. Unknown transaction type'}\n"
     ]
    }
   ],
   "source": [
    "#Currency!!!\n",
    "import requests\n",
    " \n",
    "# defining the api-endpoint\n",
    "API_ENDPOINT = \"https://api.wayforpay.com/api\"\n",
    " \n",
    " \n",
    "# data to be sent to api\n",
    "data = {\n",
    "\"apiVersion\": \"1\",\n",
    "\"transactionType\": \"CURRENCY_RATES\",\n",
    "\"transactionType\" : merchantAccount,\n",
    "\"orderDate\": orderDate,\n",
    "\"merchantSignature\": merchantSignature\n",
    "}\n",
    "print (data)\n",
    " \n",
    "# sending post request and saving response as response object\n",
    "resp = requests.post(url=API_ENDPOINT, json=data)\n",
    " \n",
    "print(resp.status_code)\n",
    "print(resp.json())"
   ]
  },
  {
   "cell_type": "code",
   "execution_count": 178,
   "metadata": {},
   "outputs": [
    {
     "data": {
      "text/plain": [
       "{'apiVersion': '1',\n",
       " 'transactionType': 'freelance_user_64cff0a7c6a9b',\n",
       " 'orderDate': 1691366400,\n",
       " 'merchantSignature': '4d1f1d0d3db9955e3d2a551900ca473c'}"
      ]
     },
     "execution_count": 178,
     "metadata": {},
     "output_type": "execute_result"
    }
   ],
   "source": [
    "data"
   ]
  }
 ],
 "metadata": {
  "kernelspec": {
   "display_name": "venv",
   "language": "python",
   "name": "python3"
  },
  "language_info": {
   "codemirror_mode": {
    "name": "ipython",
    "version": 3
   },
   "file_extension": ".py",
   "mimetype": "text/x-python",
   "name": "python",
   "nbconvert_exporter": "python",
   "pygments_lexer": "ipython3",
   "version": "3.11.2"
  },
  "orig_nbformat": 4
 },
 "nbformat": 4,
 "nbformat_minor": 2
}
