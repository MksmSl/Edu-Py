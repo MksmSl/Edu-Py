{
 "cells": [
  {
   "cell_type": "code",
   "execution_count": 64,
   "metadata": {},
   "outputs": [],
   "source": [
    "merchantAccount = \"test_merch_n1\"\n",
    "orderDate = 1691366400\n",
    "merchantDomainName = \"https://wayforpay.com/freelance.php\"\n",
    "orderReference = \"0000111\"\n",
    "amount = 1000\n",
    "productName = [\"Iphone case\"]\n",
    "productCount = [1,]\n",
    "productPrice = [1000,]\n",
    "currency = \"UAH\"\n"
   ]
  },
  {
   "cell_type": "code",
   "execution_count": 65,
   "metadata": {},
   "outputs": [
    {
     "data": {
      "text/plain": [
       "\"test_merch_n1;https://wayforpay.com/freelance.php;0000111;1691366400;1000;UAH;['Iphone case'];[1];[1000]\""
      ]
     },
     "execution_count": 65,
     "metadata": {},
     "output_type": "execute_result"
    }
   ],
   "source": [
    "s_invoice = f'{merchantAccount};{merchantDomainName};{orderReference};{orderDate};{amount};{currency};{productName};{productCount};{productPrice}'\n",
    "s_invoice"
   ]
  },
  {
   "cell_type": "code",
   "execution_count": 66,
   "metadata": {},
   "outputs": [
    {
     "name": "stdout",
     "output_type": "stream",
     "text": [
      "test_merch_n1;https://wayforpay.com/freelance.php;0000111;1691366400;1000;UAH;['Iphone case'];[1];[1000]\n"
     ]
    },
    {
     "data": {
      "text/plain": [
       "'d64c3e1b74fc60b2d51d1b6c74f4dec4'"
      ]
     },
     "execution_count": 66,
     "metadata": {},
     "output_type": "execute_result"
    }
   ],
   "source": [
    "import hashlib\n",
    "import hmac\n",
    "\n",
    "s = f'{merchantAccount};{orderDate}'\n",
    "key = \"flk3409refn54t54t*FNJRET\"\n",
    "\n",
    "def hmac_md5(key, s):\n",
    "    return hmac.new(key.encode('utf-8'), s.encode('utf-8'), 'MD5').hexdigest()\n",
    "\n",
    "print(s_invoice)\n",
    "merchantSignature = hmac_md5(key, s_invoice)\n",
    "merchantSignature"
   ]
  },
  {
   "cell_type": "code",
   "execution_count": 67,
   "metadata": {},
   "outputs": [
    {
     "name": "stdout",
     "output_type": "stream",
     "text": [
      "200\n",
      "{'reasonCode': 1113, 'reason': 'Invalid signature'}\n"
     ]
    }
   ],
   "source": [
    "#Invoice\n",
    "import requests\n",
    " \n",
    "API_ENDPOINT = \"https://api.wayforpay.com/api\"\n",
    " \n",
    "data = {\n",
    "\"transactionType\":\"CREATE_INVOICE\",\n",
    "\"merchantAccount\":merchantAccount,\n",
    "\"merchantDomainName\":merchantDomainName,\n",
    "\"merchantSignature\":merchantSignature,\n",
    "\"apiVersion\":1,\n",
    "# \"serviceUrl\":\"http://serviceurl.com\",\n",
    "\"orderReference\":orderReference,\n",
    "\"orderDate\":orderDate,\n",
    "\"amount\":amount,\n",
    "\"currency\":currency,\n",
    "\"productName\":productName,\n",
    "\"productPrice\":productPrice,\n",
    "\"productCount\":productCount,\n",
    "}\n",
    "\n",
    "resp = requests.post(url=API_ENDPOINT, json=data)\n",
    " \n",
    "print(resp.status_code)\n",
    "print(resp.json())"
   ]
  }
 ],
 "metadata": {
  "kernelspec": {
   "display_name": "venv",
   "language": "python",
   "name": "python3"
  },
  "language_info": {
   "codemirror_mode": {
    "name": "ipython",
    "version": 3
   },
   "file_extension": ".py",
   "mimetype": "text/x-python",
   "name": "python",
   "nbconvert_exporter": "python",
   "pygments_lexer": "ipython3",
   "version": "3.11.2"
  },
  "orig_nbformat": 4
 },
 "nbformat": 4,
 "nbformat_minor": 2
}
