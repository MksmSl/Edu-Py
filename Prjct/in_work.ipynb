{
 "cells": [
  {
   "cell_type": "code",
   "execution_count": null,
   "metadata": {},
   "outputs": [],
   "source": [
    "                    text = 'Oберіть модель пристрою для якого ви обираєте кейс'\n",
    "                    if order_dict['gadget']== 'MacBook':\n",
    "                        buttons = generate_button(get_model_by_design(prod_data=prod_data), 2)\n",
    "                    else:\n",
    "                        buttons = generate_button(get_model_by_design(prod_data=prod_data), 3)\n",
    "                    keyboard = InlineKeyboardMarkup(buttons)"
   ]
  },
  {
   "cell_type": "code",
   "execution_count": null,
   "metadata": {},
   "outputs": [],
   "source": [
    "    text = 'Oберіть модель пристрою для якого ви обираєте кейс'\n",
    "    if order_dict['gadget'] == 'MacBook':\n",
    "        buttons = generate_button(get_model_by_design(prod_data=prod_data), 2)\n",
    "    else:\n",
    "        buttons = generate_button(get_model_by_design(prod_data=prod_data), 3)"
   ]
  },
  {
   "cell_type": "code",
   "execution_count": null,
   "metadata": {},
   "outputs": [],
   "source": [
    "    get_variants_price,\n",
    "    get_price)\n",
    "\n",
    "from way_for_pay import get_wfp_link # ms, rand_let)\n",
    "from aiogram.utils.markdown import hlink # ms!!!\n",
    "import random\n"
   ]
  },
  {
   "cell_type": "code",
   "execution_count": null,
   "metadata": {},
   "outputs": [],
   "source": [
    "                    await query.message.edit_text(f\"<a href='{link_wfp}'>Посилання на оплату</a>\", parse_mode=\"HTML\") #ms"
   ]
  }
 ],
 "metadata": {
  "language_info": {
   "name": "python"
  },
  "orig_nbformat": 4
 },
 "nbformat": 4,
 "nbformat_minor": 2
}
