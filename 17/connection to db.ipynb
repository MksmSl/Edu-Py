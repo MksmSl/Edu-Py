{
 "cells": [
  {
   "cell_type": "code",
   "execution_count": 1,
   "metadata": {},
   "outputs": [
    {
     "name": "stderr",
     "output_type": "stream",
     "text": [
      "2023-08-04 19:33:55,233| ERROR   | Secsh channel 0 open FAILED: open failed: Administratively prohibited\n",
      "2023-08-04 19:33:55,237| ERROR   | Could not establish connection from local ('127.0.0.1', 52935) to remote ('MksmSL-3374.postgres.pythonanywhere-services.com', 13374) side of the tunnel: open new channel ssh error: ChannelException(1, 'Administratively prohibited')\n"
     ]
    },
    {
     "ename": "OperationalError",
     "evalue": "connection to server at \"127.0.0.1\", port 52935 failed: server closed the connection unexpectedly\n\tThis probably means the server terminated abnormally\n\tbefore or while processing the request.\n",
     "output_type": "error",
     "traceback": [
      "\u001b[1;31m---------------------------------------------------------------------------\u001b[0m",
      "\u001b[1;31mOperationalError\u001b[0m                          Traceback (most recent call last)",
      "Cell \u001b[1;32mIn[1], line 16\u001b[0m\n\u001b[0;32m      8\u001b[0m postgres_host_port \u001b[39m=\u001b[39m \u001b[39m13374\u001b[39m  \u001b[39m#  You will have your own port here \u001b[39;00m\n\u001b[0;32m     10\u001b[0m \u001b[39mwith\u001b[39;00m sshtunnel\u001b[39m.\u001b[39mSSHTunnelForwarder(\n\u001b[0;32m     11\u001b[0m         (\u001b[39m'\u001b[39m\u001b[39mssh.pythonanywhere.com\u001b[39m\u001b[39m'\u001b[39m),\n\u001b[0;32m     12\u001b[0m         ssh_username\u001b[39m=\u001b[39m\u001b[39m'\u001b[39m\u001b[39mMksmSl\u001b[39m\u001b[39m'\u001b[39m,\n\u001b[0;32m     13\u001b[0m         ssh_password\u001b[39m=\u001b[39m\u001b[39m'\u001b[39m\u001b[39mpaMaks2401\u001b[39m\u001b[39m'\u001b[39m,\n\u001b[0;32m     14\u001b[0m         remote_bind_address\u001b[39m=\u001b[39m(postgres_hostname, postgres_host_port)\n\u001b[0;32m     15\u001b[0m ) \u001b[39mas\u001b[39;00m tunnel:\n\u001b[1;32m---> 16\u001b[0m     connection \u001b[39m=\u001b[39m psycopg2\u001b[39m.\u001b[39;49mconnect(\n\u001b[0;32m     17\u001b[0m         user\u001b[39m=\u001b[39;49m\u001b[39m'\u001b[39;49m\u001b[39mpostgres\u001b[39;49m\u001b[39m'\u001b[39;49m, password\u001b[39m=\u001b[39;49m\u001b[39m'\u001b[39;49m\u001b[39mpostgres\u001b[39;49m\u001b[39m'\u001b[39;49m,\n\u001b[0;32m     18\u001b[0m         host\u001b[39m=\u001b[39;49m\u001b[39m'\u001b[39;49m\u001b[39m127.0.0.1\u001b[39;49m\u001b[39m'\u001b[39;49m, port\u001b[39m=\u001b[39;49mtunnel\u001b[39m.\u001b[39;49mlocal_bind_port,\n\u001b[0;32m     19\u001b[0m         database\u001b[39m=\u001b[39;49m\u001b[39m'\u001b[39;49m\u001b[39mpostgres\u001b[39;49m\u001b[39m'\u001b[39;49m,\n\u001b[0;32m     20\u001b[0m     )\n\u001b[0;32m     21\u001b[0m     \u001b[39m# Do stuff inside the context manager block\u001b[39;00m\n\u001b[0;32m     22\u001b[0m     connection\u001b[39m.\u001b[39mclose()\n",
      "File \u001b[1;32mc:\\Users\\compras02\\My Py\\Edu Py\\venv\\Lib\\site-packages\\psycopg2\\__init__.py:122\u001b[0m, in \u001b[0;36mconnect\u001b[1;34m(dsn, connection_factory, cursor_factory, **kwargs)\u001b[0m\n\u001b[0;32m    119\u001b[0m     kwasync[\u001b[39m'\u001b[39m\u001b[39masync_\u001b[39m\u001b[39m'\u001b[39m] \u001b[39m=\u001b[39m kwargs\u001b[39m.\u001b[39mpop(\u001b[39m'\u001b[39m\u001b[39masync_\u001b[39m\u001b[39m'\u001b[39m)\n\u001b[0;32m    121\u001b[0m dsn \u001b[39m=\u001b[39m _ext\u001b[39m.\u001b[39mmake_dsn(dsn, \u001b[39m*\u001b[39m\u001b[39m*\u001b[39mkwargs)\n\u001b[1;32m--> 122\u001b[0m conn \u001b[39m=\u001b[39m _connect(dsn, connection_factory\u001b[39m=\u001b[39;49mconnection_factory, \u001b[39m*\u001b[39;49m\u001b[39m*\u001b[39;49mkwasync)\n\u001b[0;32m    123\u001b[0m \u001b[39mif\u001b[39;00m cursor_factory \u001b[39mis\u001b[39;00m \u001b[39mnot\u001b[39;00m \u001b[39mNone\u001b[39;00m:\n\u001b[0;32m    124\u001b[0m     conn\u001b[39m.\u001b[39mcursor_factory \u001b[39m=\u001b[39m cursor_factory\n",
      "\u001b[1;31mOperationalError\u001b[0m: connection to server at \"127.0.0.1\", port 52935 failed: server closed the connection unexpectedly\n\tThis probably means the server terminated abnormally\n\tbefore or while processing the request.\n"
     ]
    }
   ],
   "source": [
    "import psycopg2\n",
    "import sshtunnel\n",
    "\n",
    "sshtunnel.SSH_TIMEOUT = 5.0\n",
    "sshtunnel.TUNNEL_TIMEOUT = 5.0\n",
    "\n",
    "postgres_hostname = \"MksmSL-3374.postgres.pythonanywhere-services.com\"  # You will have your own here\n",
    "postgres_host_port = 13374  #  You will have your own port here \n",
    "\n",
    "with sshtunnel.SSHTunnelForwarder(\n",
    "        ('ssh.pythonanywhere.com'),\n",
    "        ssh_username='MksmSl',\n",
    "        ssh_password='paMaks2401',\n",
    "        remote_bind_address=(postgres_hostname, postgres_host_port)\n",
    ") as tunnel:\n",
    "    connection = psycopg2.connect(\n",
    "        user='postgres', password='postgres',\n",
    "        host='127.0.0.1', port=tunnel.local_bind_port,\n",
    "        database='postgres',\n",
    "    )\n",
    "    # Do stuff inside the context manager block\n",
    "    connection.close()"
   ]
  }
 ],
 "metadata": {
  "kernelspec": {
   "display_name": "venv",
   "language": "python",
   "name": "python3"
  },
  "language_info": {
   "codemirror_mode": {
    "name": "ipython",
    "version": 3
   },
   "file_extension": ".py",
   "mimetype": "text/x-python",
   "name": "python",
   "nbconvert_exporter": "python",
   "pygments_lexer": "ipython3",
   "version": "3.11.2"
  },
  "orig_nbformat": 4
 },
 "nbformat": 4,
 "nbformat_minor": 2
}
