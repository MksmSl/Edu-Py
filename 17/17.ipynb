{
 "cells": [
  {
   "cell_type": "code",
   "execution_count": 6,
   "metadata": {},
   "outputs": [],
   "source": [
    "from sqlalchemy import create_engine\n",
    "\n",
    "DATABASE_URI = 'postgresql://{user}:{password}@{host}:{port}/{database}'\n",
    "\n",
    "\n",
    "engine = create_engine(\n",
    "    DATABASE_URI.format(\n",
    "        host='localhost',\n",
    "        database='postgres',\n",
    "        user='postgres',\n",
    "        password='dbMaks2401',\n",
    "        port=5432,\n",
    "    )\n",
    ")\n"
   ]
  },
  {
   "cell_type": "code",
   "execution_count": 9,
   "metadata": {},
   "outputs": [
    {
     "name": "stderr",
     "output_type": "stream",
     "text": [
      "C:\\Users\\compras02\\AppData\\Local\\Temp\\ipykernel_29044\\740602209.py:5: MovedIn20Warning: The ``declarative_base()`` function is now available as sqlalchemy.orm.declarative_base(). (deprecated since: 2.0) (Background on SQLAlchemy 2.0 at: https://sqlalche.me/e/b8d9)\n",
      "  Base = declarative_base()\n"
     ]
    }
   ],
   "source": [
    "from sqlalchemy.ext.declarative import declarative_base\n",
    "from sqlalchemy import Column, Integer, String, String, Integer, ForeignKey\n",
    "from sqlalchemy import delete\n",
    "\n",
    "Base = declarative_base()\n",
    "\n",
    "class Student(Base):\n",
    "    __tablename__ = 'student'\n",
    "\n",
    "    id = Column(Integer, primary_key=True)\n",
    "    name = Column(String)\n",
    "    age = Column(Integer)\n",
    "\n",
    "    def __str__(self):\n",
    "        return f'This is {self.id} student {self.name}. Age: {self.age}'\n",
    "\n",
    "    def __repr__(self):\n",
    "        return f'This is {self.id} student {self.name}. Age: {self.age}'\n",
    "    \n",
    "\n",
    "\n",
    "class Subject(Base):\n",
    "    __tablename__ = 'subject'\n",
    "\n",
    "    id = Column(Integer, primary_key=True)\n",
    "    name = Column(String)\n",
    "\n",
    "    def __str__(self):\n",
    "        return f'This is {self.id} subject {self.name}.'\n",
    "    def __repr__(self):\n",
    "        return f'This is {self.id} subject {self.name}.'\n",
    "\n",
    "    \n"
   ]
  },
  {
   "cell_type": "code",
   "execution_count": 11,
   "metadata": {},
   "outputs": [],
   "source": [
    "class Student_subject(Base):\n",
    "    __tablename__ = 'student_subject'\n",
    "\n",
    "    id = Column(Integer, primary_key=True)\n",
    "    student_id = Column(Integer, ForeignKey('student.id'))\n",
    "    subject_id = Column(Integer, ForeignKey('subject.id'))\n",
    "\n",
    "\n",
    "    def __str__(self):\n",
    "        return f'This is a student {self.student_id} with subject {self.subject_id}.'\n",
    "    def __repr__(self):\n",
    "        return f'This is a student {self.student_id} with subject {self.subject_id}.'\n"
   ]
  },
  {
   "cell_type": "code",
   "execution_count": 12,
   "metadata": {},
   "outputs": [],
   "source": [
    "Base.metadata.create_all(engine)"
   ]
  },
  {
   "cell_type": "code",
   "execution_count": 8,
   "metadata": {},
   "outputs": [],
   "source": [
    "from sqlalchemy.orm import sessionmaker\n",
    "\n",
    "Session = sessionmaker(bind=engine)\n",
    "\n",
    "session = Session()"
   ]
  },
  {
   "cell_type": "code",
   "execution_count": 147,
   "metadata": {},
   "outputs": [],
   "source": [
    "session.close()"
   ]
  },
  {
   "cell_type": "code",
   "execution_count": 67,
   "metadata": {},
   "outputs": [],
   "source": [
    "\n",
    "sub4 = Subject(name = 'Ukrainian')\n",
    "\n",
    "# new_student_subject = Student_subject(student_id = 1, subject_id = 1)\n",
    "# session.add(new_student_subject)\n",
    "# new_subject = Subject(name = 'English')\n",
    "\n",
    "\n",
    "session.add(sub4)\n",
    "# # new_student\n",
    "# print(new_student_subject.student_id, new_student_subject.subject_id)\n",
    "# ('English'), ('Math'), ('Spanish'), ('Spanish')"
   ]
  },
  {
   "cell_type": "code",
   "execution_count": 93,
   "metadata": {},
   "outputs": [],
   "source": [
    "session.commit()"
   ]
  },
  {
   "cell_type": "code",
   "execution_count": 13,
   "metadata": {},
   "outputs": [
    {
     "name": "stdout",
     "output_type": "stream",
     "text": [
      "[This is 1 student Denis. Age: 25, This is 2 student Brian. Age: 19, This is 3 student Lee. Age: 19, This is 4 student Brian. Age: 23, This is 5 student Eric. Age: 25, This is 6 student Benedict. Age: 25, This is 7 student Andrea. Age: 23, This is 8 student Brian. Age: 25, This is 9 student Brian. Age: 22, This is 10 student Brian. Age: 22, This is 11 student Brian. Age: 18]\n",
      "[This is a student 1 with subject 3., This is a student 1 with subject 1., This is a student 2 with subject 4., This is a student 3 with subject 2., This is a student 4 with subject 1., This is a student 5 with subject 3., This is a student 6 with subject 3., This is a student 7 with subject 1., This is a student 8 with subject 4., This is a student 9 with subject 1., This is a student 10 with subject 3., This is a student 1 with subject 2.]\n",
      "[This is 1 subject English., This is 2 subject Math., This is 3 subject Spanish., This is 4 subject Ukrainian.]\n"
     ]
    }
   ],
   "source": [
    "denis = session.query(Student).all()\n",
    "sub = session.query(Subject).all()\n",
    "sud_sab = session.query(Student_subject).all()\n",
    "print(denis)\n",
    "print(sud_sab)\n",
    "print(sub)\n",
    "\n",
    "\n"
   ]
  },
  {
   "cell_type": "code",
   "execution_count": 94,
   "metadata": {},
   "outputs": [],
   "source": [
    "from random import randint, choice\n",
    "random_names = ['Joe', 'Winston', 'Benedict', 'Andrea', 'Fillipe', 'Iria', 'Eric', 'Joan', 'Pablo', 'Brian', 'Timothy', 'Lee']\n",
    "\n",
    "for _ in range(10):\n",
    "    student = Student(name=choice(random_names), age=randint(18, 25))\n",
    "    session.add(student)\n",
    "\n",
    "session.commit()\n"
   ]
  },
  {
   "cell_type": "code",
   "execution_count": 156,
   "metadata": {},
   "outputs": [
    {
     "name": "stdout",
     "output_type": "stream",
     "text": [
      "1, Denis, 25, English\n",
      "4, Brian, 23, English\n",
      "7, Andrea, 23, English\n",
      "9, Brian, 22, English\n"
     ]
    }
   ],
   "source": [
    "for ss, st, sb in session.query(Student_subject, Student, Subject).\\\n",
    "    filter(Student_subject.student_id == Student.id, \n",
    "           Student_subject.subject_id == Subject.id).filter(Subject.name == 'English').all():\n",
    "    print(f'{ss.student_id}, {st.name}, {st.age}, {sb.name}')\n",
    "\n",
    "\n",
    "\n",
    "# 1, Denis, 25, English\n",
    "# 4, Brian, 23, English\n",
    "# 7, Andrea, 23, English\n",
    "# 9, Brian, 22, English"
   ]
  }
 ],
 "metadata": {
  "kernelspec": {
   "display_name": "venv",
   "language": "python",
   "name": "python3"
  },
  "language_info": {
   "codemirror_mode": {
    "name": "ipython",
    "version": 3
   },
   "file_extension": ".py",
   "mimetype": "text/x-python",
   "name": "python",
   "nbconvert_exporter": "python",
   "pygments_lexer": "ipython3",
   "version": "3.11.2"
  },
  "orig_nbformat": 4
 },
 "nbformat": 4,
 "nbformat_minor": 2
}
