{
 "cells": [
  {
   "cell_type": "markdown",
   "metadata": {},
   "source": [
    "## Function"
   ]
  },
  {
   "cell_type": "markdown",
   "metadata": {},
   "source": [
    "### What is a function?"
   ]
  },
  {
   "attachments": {},
   "cell_type": "markdown",
   "metadata": {},
   "source": [
    "In Python, a function is a block of code that performs a specific task. Functions allow you to reuse code and make your code easier to read and maintain.\n",
    "\n",
    "You already know about some built-in functions in Python, such as `print` and `input`. You can also create your own functions to perform tasks that you want to repeat throughout your program.\n",
    "\n",
    "Here is a simple example of a custom function in Python:\n"
   ]
  },
  {
   "cell_type": "code",
   "execution_count": null,
   "metadata": {},
   "outputs": [],
   "source": [
    "def greet(name):\n",
    "  print(\"Hello, \" + name + \"!\")\n",
    "\n",
    "greet(\"John\")  # prints \"Hello, John!\""
   ]
  },
  {
   "cell_type": "code",
   "execution_count": null,
   "metadata": {},
   "outputs": [],
   "source": [
    "print(name)"
   ]
  },
  {
   "attachments": {},
   "cell_type": "markdown",
   "metadata": {},
   "source": [
    "In this example, the greet function takes in a single argument, name, and prints a greeting using the value of name. To use the function, we call it by its name followed by a set of parentheses and any necessary arguments. In this case, we call the greet function with the argument \"John\", which causes it to print \"Hello, John!\".\n",
    "\n",
    "Functions can also return values, which allows you to use the output of the function in other parts of your code. For example:\n"
   ]
  },
  {
   "cell_type": "markdown",
   "metadata": {},
   "source": [
    "### Custom function"
   ]
  },
  {
   "cell_type": "code",
   "execution_count": null,
   "metadata": {},
   "outputs": [],
   "source": [
    "def sum_of_two_numbers(a, b):  # signature\n",
    "    # body\n",
    "    sum_result = a + b\n",
    "    return sum_result\n",
    "\n",
    "\n",
    "result = sum_of_two_numbers(1, 2)\n",
    "print('Result', result)"
   ]
  },
  {
   "cell_type": "markdown",
   "metadata": {},
   "source": [
    "### Side effects"
   ]
  },
  {
   "cell_type": "code",
   "execution_count": null,
   "metadata": {},
   "outputs": [],
   "source": [
    "def output_result(result):\n",
    "    some_new_result = result * 2\n",
    "    print(f'Result is {result}')\n",
    "\n",
    "response = output_result(3 * 7)\n",
    "print(f'print {response}')"
   ]
  },
  {
   "cell_type": "markdown",
   "metadata": {},
   "source": [
    "In this example, the add function takes in two arguments, a and b, and returns the sum of these two values. When we call the add function with the arguments 1 and 2, it returns the value 3, which we assign to the variable result."
   ]
  },
  {
   "cell_type": "code",
   "execution_count": null,
   "metadata": {},
   "outputs": [],
   "source": [
    "def get_int_from_input():  # signature\n",
    "    # body\n",
    "    input_value = input('input something')\n",
    "    return int(input_value)\n",
    "    print(f'Result is {sum_result}')\n",
    "\n",
    "\n",
    "result = get_int_from_input()\n",
    "print(result)"
   ]
  },
  {
   "cell_type": "code",
   "execution_count": null,
   "metadata": {},
   "outputs": [],
   "source": [
    "result = multiply_two_numbers(4, 2)\n",
    "print(result)\n",
    "\n",
    "\n",
    "def multiply_two_numbers(first_argument, second_argument):  # signature\n",
    "    # body\n",
    "    print(3 + '4')\n",
    "    sum_result = first_argument * second_argument\n",
    "    return sum_result\n",
    "    print(f'Result is {sum_result}')\n"
   ]
  },
  {
   "cell_type": "markdown",
   "metadata": {},
   "source": [
    "### Optional arguments"
   ]
  },
  {
   "cell_type": "code",
   "execution_count": null,
   "metadata": {},
   "outputs": [],
   "source": [
    "greet()"
   ]
  },
  {
   "cell_type": "code",
   "execution_count": null,
   "metadata": {},
   "outputs": [],
   "source": [
    "def greet(name = 'John'):\n",
    "    print(\"Hello, \" + name + \"!\")"
   ]
  },
  {
   "cell_type": "code",
   "execution_count": null,
   "metadata": {},
   "outputs": [],
   "source": [
    "greet('World')"
   ]
  },
  {
   "cell_type": "code",
   "execution_count": null,
   "metadata": {},
   "outputs": [],
   "source": [
    "greet()"
   ]
  },
  {
   "cell_type": "code",
   "execution_count": null,
   "metadata": {},
   "outputs": [],
   "source": [
    "def sum_three_numbers(\n",
    "    first_argument,\n",
    "    second_argument = '2',\n",
    "    third_argument = '3'\n",
    "):  # signature\n",
    "    # body\n",
    "    sum_result = first_argument +  second_argument + third_argument\n",
    "        \n",
    "    return sum_result\n"
   ]
  },
  {
   "cell_type": "code",
   "execution_count": null,
   "metadata": {},
   "outputs": [],
   "source": [
    "result = sum_three_numbers('1', '4', '5')\n",
    "print(result)"
   ]
  },
  {
   "cell_type": "code",
   "execution_count": null,
   "metadata": {},
   "outputs": [],
   "source": [
    "result = sum_three_numbers('1', third_argument='4')\n",
    "print(result)"
   ]
  },
  {
   "cell_type": "code",
   "execution_count": null,
   "metadata": {},
   "outputs": [],
   "source": [
    "result = sum_three_numbers()\n",
    "print(result)"
   ]
  },
  {
   "cell_type": "markdown",
   "metadata": {},
   "source": [
    "### Optional types"
   ]
  },
  {
   "cell_type": "code",
   "execution_count": null,
   "metadata": {},
   "outputs": [],
   "source": [
    "def sum_int_values(first_value: int, second_value: int = 3) -> int:\n",
    "    return first_value + second_value"
   ]
  },
  {
   "cell_type": "code",
   "execution_count": null,
   "metadata": {},
   "outputs": [],
   "source": [
    "sum_int_values('4', '5')"
   ]
  },
  {
   "cell_type": "code",
   "execution_count": null,
   "metadata": {},
   "outputs": [],
   "source": [
    "# Mypy - static type checker for Python"
   ]
  },
  {
   "attachments": {},
   "cell_type": "markdown",
   "metadata": {},
   "source": [
    "## Practice section\n",
    "\n",
    "\n",
    "1. Write a function called `find_primes` that takes in two integers a and b and returns a list of all the prime numbers between a and b (inclusive).\n",
    "2. Write a function called `unique_characters` that takes in a string s and returns a Boolean value indicating whether or not all the characters in s are unique. For example, the string \"abcdefg\" has unique characters, but the string \"abcdeff\" does not.\n",
    "3. Write a function that caluculate [Fibonacci series](https://en.wikipedia.org/wiki/Fibonacci_sequence). The Fibonacci series is a series of numbers in which each number is the sum of the two preceding numbers. The first two numbers are 1 and 1. The third number is 1 + 1 = 2, the fourth number is 1 + 2 = 3, and so on. Number of iterations should be taken from user input.\n",
    "\n",
    "```python\n",
    "def fibonacci(n):\n",
    "    # your code here\n",
    "\n",
    "fibonacci(10)\n",
    ">>> 55\n",
    "```"
   ]
  },
  {
   "attachments": {},
   "cell_type": "markdown",
   "metadata": {},
   "source": [
    "\n",
    "4. Write a function that implement case swapping. It should return the same result as swapcase() method. Your function should accept one str argument and convert all lower case values to upper case and vice versa. \n",
    "\n",
    "```python\n",
    "def swapcase(input_string: str) -> str:\n",
    "    # do something\n",
    "\n",
    "print(swapcase('HelLo!')) \n",
    ">>> 'hELlO!\n",
    "```\n",
    "\n",
    "5. Write a function that calculates performance of deposit on bank account. The function called simple_interest takes three arguments: the initial amount, the annual interest rate (as a float), and the time in years. The function should return the final amount after the simple interest has been applied. Use a for loop to accomplish this. Round the answer to the nearest hundredth.\n",
    "\n",
    "```python\n",
    "def simple_interest(initial_amount, interest_rate, years):\n",
    "    # Your code here\n",
    "\n",
    "\n",
    "print(simple_interest(10000, 0.1, 10))\n",
    ">>> 25937.42\n",
    "```\n",
    "\n",
    "6. (Optional) Write a function called password_strength that takes a string password as an argument and returns a password strength score based on the following criteria:\n",
    "\n",
    "    Length: +1 point for each character\n",
    "    Lowercase letters: +2 points for each unique lowercase letter\n",
    "    Uppercase letters: +3 points for each unique uppercase letter\n",
    "    Digits: +4 points for each unique digit\n",
    "    Special characters: +5 points for each unique special character\n",
    "\n",
    "Use for loops to accomplish this. The function should return the total score for the given password.\n",
    "\n",
    "```python\n",
    "def password_strength(password):\n",
    "    # Your code here\n",
    "\n",
    "password_strength('abc123')\n",
    ">>> 24  #  6 for each symbol + 3 * 2 for each lowercase letter + 4 * 3 for each digit\n",
    "```\n",
    "\n",
    "7. (Optional) Write two functions, encrypt and decrypt, that implement the [Caesar cipher](https://en.wikipedia.org/wiki/Caesar_cipher) technique for encrypting and decrypting messages. The encrypt function should take a message and a shift value as arguments, while the decrypt function should take an encrypted message and the same shift value as arguments. Use for loops to accomplish this.\n",
    "\n",
    "```python\n",
    "def encrypt(message, shift):\n",
    "    # Your code here\n",
    "\n",
    "def decrypt(encrypted_message, shift):\n",
    "    # Your code here\n",
    "```\n",
    "\n"
   ]
  },
  {
   "attachments": {},
   "cell_type": "markdown",
   "metadata": {},
   "source": [
    "### Materials\n",
    "\n",
    "#### For loop\n",
    "\n",
    "1. https://realpython.com/python-for-loop/\n",
    "\n",
    "#### Functions\n",
    "\n",
    "1. https://python-course.eu/python-tutorial/functions.php\n",
    "2. https://realpython.com/defining-your-own-python-function/\n",
    "3. https://realpython.com/python-range/\n"
   ]
  }
 ],
 "metadata": {
  "kernelspec": {
   "display_name": "Python 3.9.13 64-bit",
   "language": "python",
   "name": "python3"
  },
  "language_info": {
   "codemirror_mode": {
    "name": "ipython",
    "version": 3
   },
   "file_extension": ".py",
   "mimetype": "text/x-python",
   "name": "python",
   "nbconvert_exporter": "python",
   "pygments_lexer": "ipython3",
   "version": "3.9.16"
  },
  "orig_nbformat": 4,
  "vscode": {
   "interpreter": {
    "hash": "397704579725e15f5c7cb49fe5f0341eb7531c82d19f2c29d197e8b64ab5776b"
   }
  }
 },
 "nbformat": 4,
 "nbformat_minor": 2
}
